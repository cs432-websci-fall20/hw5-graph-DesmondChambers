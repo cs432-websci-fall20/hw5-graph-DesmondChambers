{
 "cells": [
  {
   "cell_type": "code",
   "execution_count": 1,
   "metadata": {},
   "outputs": [
    {
     "name": "stdout",
     "output_type": "stream",
     "text": [
      " The number of connected components are  1\n",
      " The number of connected components are  1\n",
      " The number of connected components are  1\n",
      " The number of connected components are  1\n",
      " The number of connected components are  2\n",
      "Barbell Graph\n",
      " The number of connected components are  1\n",
      " The number of connected components are  1\n",
      " The number of connected components are  1\n",
      " The number of connected components are  1\n",
      " The number of connected components are  1\n",
      " The number of connected components are  1\n",
      " The number of connected components are  1\n",
      " The number of connected components are  1\n",
      " The number of connected components are  1\n",
      " The number of connected components are  2\n",
      "Karate Club Graph\n"
     ]
    }
   ],
   "source": [
    "import networkx as nx \n",
    "\n",
    "\n",
    "def edge_to_remove(g): \n",
    "\t\n",
    "\td1 = nx.edge_betweenness_centrality(g) \n",
    "\tlist_of_tuples = list(d1.items()) \n",
    "\t\n",
    "\tsorted(list_of_tuples, key = lambda x:x[1], reverse = True) \n",
    "\t\n",
    "\t# Will return in the form (a,b) \n",
    "\treturn list_of_tuples[0][0] \n",
    "\n",
    "def girvan(g): \n",
    "\ta = nx.connected_components(g) \n",
    "\tlena = len(list(a)) \n",
    "\tprint (' The number of connected components are ', lena) \n",
    "\twhile (lena == 1): \n",
    "\n",
    "\t\t# We need (a,b) instead of ((a,b)) \n",
    "\t\tu, v = edge_to_remove(g) \n",
    "\t\tg.remove_edge(u, v) \n",
    "\t\t\n",
    "\t\ta = nx.connected_components(g) \n",
    "\t\tlena=len(list(a)) \n",
    "\t\tprint (' The number of connected components are ', lena) \n",
    "\t\n",
    "\treturn a \n",
    "\n",
    "# Driver Code \n",
    "g = nx.barbell_graph(5,0) \n",
    "a = girvan(g) \n",
    "print ('Barbell Graph') \n",
    "\n",
    "for i in a: \n",
    "\tprint (i.nodes()) \n",
    "\tprint ('.............') \n",
    "\n",
    "g1 = nx.karate_club_graph() \n",
    "a1 = girvan(g1) \n",
    "\n",
    "print ('Karate Club Graph') \n",
    "for i in a1: \n",
    "\tprint (i.nodes()) \n",
    "\tprint ('.............')\n"
   ]
  },
  {
   "cell_type": "code",
   "execution_count": null,
   "metadata": {},
   "outputs": [],
   "source": []
  }
 ],
 "metadata": {
  "kernelspec": {
   "display_name": "Python 3",
   "language": "python",
   "name": "python3"
  },
  "language_info": {
   "codemirror_mode": {
    "name": "ipython",
    "version": 3
   },
   "file_extension": ".py",
   "mimetype": "text/x-python",
   "name": "python",
   "nbconvert_exporter": "python",
   "pygments_lexer": "ipython3",
   "version": "3.8.5"
  }
 },
 "nbformat": 4,
 "nbformat_minor": 4
}
