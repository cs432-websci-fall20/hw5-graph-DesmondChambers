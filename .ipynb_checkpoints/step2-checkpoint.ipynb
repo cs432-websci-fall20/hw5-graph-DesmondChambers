{
 "cells": [
  {
   "cell_type": "code",
   "execution_count": 1,
   "metadata": {},
   "outputs": [],
   "source": [
    "import matplotlib.pyplot as plt\n",
    "import networkx as nx"
   ]
  },
  {
   "cell_type": "code",
   "execution_count": 2,
   "metadata": {},
   "outputs": [],
   "source": [
    "def edge_to_remove(g):      \n",
    "    d1 = nx.edge_betweenness_centrality(g) \n",
    "    list_of_tuples = list(d1.items()) \n",
    "      \n",
    "    sorted(list_of_tuples, key = lambda x:x[1], reverse = True) \n",
    "      \n",
    "    # Will return in the form (a,b) \n",
    "    return list_of_tuples[0][0] "
   ]
  },
  {
   "cell_type": "code",
   "execution_count": 3,
   "metadata": {},
   "outputs": [],
   "source": [
    "def girvan(g): \n",
    "    a = nx.connected_components(g) \n",
    "    lena = len(list(a)) \n",
    "    print (' The number of connected components are ', lena) \n",
    "    while (lena == 1): \n",
    "  \n",
    "        # We need (a,b) instead of ((a,b)) \n",
    "        u, v = edge_to_remove(g) \n",
    "        g.remove_edge(u, v)  \n",
    "          \n",
    "        a = nx.connected_components(g) \n",
    "        lena=len(list(a)) \n",
    "        print (' The number of connected components are ', lena) \n",
    "    \n",
    "    return a "
   ]
  },
  {
   "cell_type": "code",
   "execution_count": 4,
   "metadata": {},
   "outputs": [
    {
     "name": "stdout",
     "output_type": "stream",
     "text": [
      " The number of connected components are  1\n",
      " The number of connected components are  1\n",
      " The number of connected components are  1\n",
      " The number of connected components are  1\n",
      " The number of connected components are  2\n",
      "Barbell Graph\n",
      " The number of connected components are  1\n",
      " The number of connected components are  1\n",
      " The number of connected components are  1\n",
      " The number of connected components are  1\n",
      " The number of connected components are  1\n",
      " The number of connected components are  1\n",
      " The number of connected components are  1\n",
      " The number of connected components are  1\n",
      " The number of connected components are  1\n",
      " The number of connected components are  2\n",
      "Karate Club Graph\n"
     ]
    }
   ],
   "source": [
    "# Driver Code \n",
    "g = nx.barbell_graph(5,0) \n",
    "a = girvan(g) \n",
    "print ('Barbell Graph') \n",
    "  \n",
    "for i in a: \n",
    "    print (i.nodes()) \n",
    "    print ('.............') \n",
    "  \n",
    "g1 = nx.karate_club_graph() \n",
    "a1 = girvan(g1) \n",
    "  \n",
    "print ('Karate Club Graph') \n",
    "for i in a1: \n",
    "    print (i.nodes()) \n",
    "    print ('.............')"
   ]
  }
 ],
 "metadata": {
  "kernelspec": {
   "display_name": "Python 3",
   "language": "python",
   "name": "python3"
  },
  "language_info": {
   "codemirror_mode": {
    "name": "ipython",
    "version": 3
   },
   "file_extension": ".py",
   "mimetype": "text/x-python",
   "name": "python",
   "nbconvert_exporter": "python",
   "pygments_lexer": "ipython3",
   "version": "3.8.5"
  }
 },
 "nbformat": 4,
 "nbformat_minor": 4
}
